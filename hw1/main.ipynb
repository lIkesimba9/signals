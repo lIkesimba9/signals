{
 "cells": [
  {
   "cell_type": "code",
   "execution_count": 23,
   "id": "5eba4869",
   "metadata": {},
   "outputs": [],
   "source": [
    "#include <iostream>\n",
    "#include <complex>\n",
    "#include <cmath>\n",
    "#include <random>\n",
    "#include <fstream>\n",
    "using namespace std::complex_literals;"
   ]
  },
  {
   "cell_type": "code",
   "execution_count": 24,
   "id": "5dc5753a",
   "metadata": {},
   "outputs": [],
   "source": [
    "class Generator {\n",
    "    double amplitude_ = 1;\n",
    "    double rate_of_signal_;\n",
    "    double sample_rate_;\n",
    "    double t_;\n",
    "    public:\n",
    "        Generator(double sample_rate, double amplitude, double rate_of_signal): sample_rate_(sample_rate), amplitude_(amplitude),\n",
    "            rate_of_signal_(rate_of_signal)\n",
    "        {\n",
    "            t_ = 0;\n",
    "        }\n",
    "        std::complex<double> next() {\n",
    "            double phase = M_PI   * 2.  * t_ * rate_of_signal_ / sample_rate_;\n",
    "            std::complex<double> current_value = amplitude_ * std::complex<double>(std::cos(phase), std::sin(phase));\n",
    "            t_++;\n",
    "            return current_value;\n",
    "        }\n",
    "}"
   ]
  },
  {
   "cell_type": "code",
   "execution_count": 25,
   "id": "37b50977",
   "metadata": {},
   "outputs": [],
   "source": [
    "double A = 1;\n",
    "double sample_rate = 8000;\n",
    "double rate_signal = 2000;"
   ]
  },
  {
   "cell_type": "code",
   "execution_count": 26,
   "id": "a2e0a1b1",
   "metadata": {},
   "outputs": [],
   "source": [
    "Generator gen(sample_rate, A, rate_signal)"
   ]
  },
  {
   "cell_type": "code",
   "execution_count": 27,
   "id": "16277ba8",
   "metadata": {},
   "outputs": [],
   "source": [
    "std::ofstream fout;\n",
    "fout.open(\"out.txt\");"
   ]
  },
  {
   "cell_type": "code",
   "execution_count": 28,
   "id": "8638c96c",
   "metadata": {},
   "outputs": [],
   "source": [
    "for (size_t i = 0; i < 200; ++i)\n",
    "{\n",
    "    std::complex<double> cur_value = gen.next();\n",
    "    fout << imag(cur_value) << \",\" << real(cur_value) << '\\n';\n",
    "}"
   ]
  },
  {
   "cell_type": "code",
   "execution_count": 29,
   "id": "5a769838",
   "metadata": {},
   "outputs": [],
   "source": [
    "fout.close()"
   ]
  },
  {
   "cell_type": "code",
   "execution_count": 31,
   "id": "6c771f45",
   "metadata": {},
   "outputs": [],
   "source": [
    "class ModulatorFM2 {\n",
    "    double amplitude_ = 1;\n",
    "    double rate_of_signal_;\n",
    "    double sample_rate_;\n",
    "    double t_;\n",
    "    public:\n",
    "        ModulatorFM2(double sample_rate, double amplitude, double rate_of_signal): sample_rate_(sample_rate), amplitude_(amplitude),\n",
    "            rate_of_signal_(rate_of_signal)\n",
    "        {\n",
    "            t_ = 0;\n",
    "        }\n",
    "        std::complex<double> next(bool value) {\n",
    "            \n",
    "            double phase = M_PI   * 2.  * t_ * rate_of_signal_ / sample_rate_;\n",
    "            phase += value ? M_PI : 0;\n",
    "            std::complex<double> current_value = amplitude_ * std::complex<double>(std::cos(phase), std::sin(phase));\n",
    "            t_++;\n",
    "            return current_value;\n",
    "        }\n",
    "\n",
    "    \n",
    "};\n"
   ]
  },
  {
   "cell_type": "code",
   "execution_count": 32,
   "id": "ab1f1bcf",
   "metadata": {},
   "outputs": [],
   "source": [
    "ModulatorFM2 mod(sample_rate, A, rate_signal)"
   ]
  },
  {
   "cell_type": "code",
   "execution_count": 33,
   "id": "8ccc6504",
   "metadata": {},
   "outputs": [],
   "source": [
    "std::ofstream fout;\n",
    "fout.open(\"out2.txt\");"
   ]
  },
  {
   "cell_type": "code",
   "execution_count": null,
   "id": "5f3af6d8",
   "metadata": {},
   "outputs": [],
   "source": []
  },
  {
   "cell_type": "code",
   "execution_count": 34,
   "id": "dd39707c",
   "metadata": {},
   "outputs": [],
   "source": [
    "for (size_t i = 0; i < 200; ++i)\n",
    "{\n",
    "    bool rand_value = rand() % 2;\n",
    "    std::complex<double> cur_value = mod.next(rand_value);\n",
    "    fout << imag(cur_value) << \",\" << real(cur_value) << \",\" << double(rand_value) << '\\n';\n",
    "}"
   ]
  },
  {
   "cell_type": "code",
   "execution_count": 35,
   "id": "e095632c",
   "metadata": {},
   "outputs": [],
   "source": [
    "fout.close()"
   ]
  },
  {
   "cell_type": "code",
   "execution_count": null,
   "id": "b477f1dd",
   "metadata": {},
   "outputs": [],
   "source": []
  }
 ],
 "metadata": {
  "kernelspec": {
   "display_name": "C++17",
   "language": "C++17",
   "name": "xcpp17"
  },
  "language_info": {
   "codemirror_mode": "text/x-c++src",
   "file_extension": ".cpp",
   "mimetype": "text/x-c++src",
   "name": "c++",
   "version": "17"
  }
 },
 "nbformat": 4,
 "nbformat_minor": 5
}
